{
  "nbformat": 4,
  "nbformat_minor": 0,
  "metadata": {
    "colab": {
      "provenance": []
    },
    "kernelspec": {
      "name": "python3",
      "display_name": "Python 3"
    },
    "language_info": {
      "name": "python"
    }
  },
  "cells": [
    {
      "cell_type": "code",
      "execution_count": 265,
      "metadata": {
        "id": "cyJECp2lLdwx"
      },
      "outputs": [],
      "source": [
        "import numpy as np\n",
        "from scipy.stats import beta\n",
        "\n",
        "a=1.5\n",
        "b=3.5\n",
        "\n",
        "\n",
        "def simulate_balloon_game(n, k, num_simulations=10000, num_rounds=1):\n",
        "    scores = []  # Initialize list to store total scores from all simulations\n",
        "\n",
        "    # Parameters for the Beta distribution\n",
        "    alpha = a + n\n",
        "    beta_param = b + np.sum(np.array(k) - 1)\n",
        "\n",
        "    # Simulate the game for num_simulations times\n",
        "    for _ in range(num_simulations):\n",
        "        # Draw p from the Beta distribution\n",
        "        p = beta.rvs(alpha, beta_param)\n",
        "\n",
        "        # Simulate the balloon game for num_rounds rounds and add the total score to total_scores\n",
        "        scores.append((1 - p) / p)\n",
        "\n",
        "    # Return the average total score over all simulations\n",
        "    return np.mean(scores), [np.percentile(scores,5),np.percentile(scores,95)]\n"
      ]
    },
    {
      "cell_type": "code",
      "source": [
        "# Light Green\n",
        "n_lg = 1  # Number of draws\n",
        "k_lg = [7,3]  # Number of successes in each draw\n",
        "\n",
        "# Simulate the balloon game 1000 times, each time playing 4 rounds\n",
        "simulate_balloon_game(n_lg, k_lg)"
      ],
      "metadata": {
        "colab": {
          "base_uri": "https://localhost:8080/"
        },
        "id": "R9j8buuFPtyl",
        "outputId": "0670bde4-50bc-47cd-8883-d70103ca3176"
      },
      "execution_count": 266,
      "outputs": [
        {
          "output_type": "execute_result",
          "data": {
            "text/plain": [
              "(7.4613045609590145, [1.7482945455889636, 20.167596600355665])"
            ]
          },
          "metadata": {},
          "execution_count": 266
        }
      ]
    },
    {
      "cell_type": "code",
      "source": [
        "# Red\n",
        "n_red = 4  # Number of draws\n",
        "k_red = [10,7,1,1,2]  # Number of successes in each draw\n",
        "\n",
        "# Simulate the balloon game 1000 times, each time playing 4 rounds\n",
        "simulate_balloon_game(n_red, k_red)\n"
      ],
      "metadata": {
        "colab": {
          "base_uri": "https://localhost:8080/"
        },
        "id": "Qa7l4gtePrHs",
        "outputId": "647537bf-7cfb-4f3a-9557-37098bfe839d"
      },
      "execution_count": 267,
      "outputs": [
        {
          "output_type": "execute_result",
          "data": {
            "text/plain": [
              "(4.33759703282123, [1.716768518011279, 9.142702166768016])"
            ]
          },
          "metadata": {},
          "execution_count": 267
        }
      ]
    },
    {
      "cell_type": "code",
      "source": [
        "# Bright Blue\n",
        "n_bb = 4  # Number of draws\n",
        "k_bb = [14,15,15,0,17,11,8]  # Number of successes in each draw\n",
        "\n",
        "# Simulate the balloon game 1000 times, each time playing 4 rounds\n",
        "simulate_balloon_game(n_bb, k_bb)"
      ],
      "metadata": {
        "colab": {
          "base_uri": "https://localhost:8080/"
        },
        "id": "onXbySsxPaHQ",
        "outputId": "e3ef871a-7992-4ea8-dbd8-65895b080dfa"
      },
      "execution_count": 268,
      "outputs": [
        {
          "output_type": "execute_result",
          "data": {
            "text/plain": [
              "(17.182968908073658, [7.630675528935504, 34.2478825279895])"
            ]
          },
          "metadata": {},
          "execution_count": 268
        }
      ]
    },
    {
      "cell_type": "code",
      "source": [
        "# dull blue\n",
        "n_db = 2  # Number of draws\n",
        "k_db = [8,15,15,1,14]  # Number of successes in each draw\n",
        "\n",
        "# Simulate the balloon game 1000 times, each time playing 4 rounds\n",
        "simulate_balloon_game(n_db, k_db)"
      ],
      "metadata": {
        "colab": {
          "base_uri": "https://localhost:8080/"
        },
        "id": "yp_NTHTZP_7M",
        "outputId": "e8674dc8-aeb1-4634-a857-10b897c626cf"
      },
      "execution_count": 269,
      "outputs": [
        {
          "output_type": "execute_result",
          "data": {
            "text/plain": [
              "(20.5750489462295, [6.999450289545134, 48.15601138059459])"
            ]
          },
          "metadata": {},
          "execution_count": 269
        }
      ]
    }
  ]
}